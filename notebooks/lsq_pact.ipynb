{
 "cells": [
  {
   "cell_type": "code",
   "execution_count": 13,
   "metadata": {},
   "outputs": [],
   "source": [
    "import torch\n",
    "import torch.nn as nn\n",
    "\n",
    "\n",
    "class LSQQuantizer(nn.Module):\n",
    "    def __init__(self, bits=4, raise_zero=True, all_positive=False, **kwargs):\n",
    "        super().__init__()\n",
    "        # NOTE: raise_zero should never be used with FP quantization\n",
    "\n",
    "        self.bits = bits\n",
    "        self.n_levels = 2**bits\n",
    "        self.all_positive = all_positive\n",
    "        self.raise_zero = raise_zero\n",
    "\n",
    "        self.q_min, self.q_max = self.get_dtype_bounds()\n",
    "\n",
    "        self.is_alpha_init = False\n",
    "        self.alpha_weight = nn.Parameter(torch.tensor(1.0), requires_grad=True)\n",
    "\n",
    "    def get_dtype_bounds(self):\n",
    "        if not self.all_positive:\n",
    "            q_min = -self.n_levels / 2\n",
    "            q_max = self.n_levels / 2 - 1\n",
    "        else:\n",
    "            q_min = 0\n",
    "            q_max = self.n_levels - 1\n",
    "        return q_min, q_max\n",
    "\n",
    "    def cast(self, x):\n",
    "        # This method can be inherited to use any casting, e.g. int, fp(e2m1, e1m2,...), optimal gaussian, etc.\n",
    "        # NOTE: raise_zero should never be used with FP quantization\n",
    "        return x.round()\n",
    "\n",
    "    def ste_cast(self, x):\n",
    "        return (self.cast(x) - x).detach() + x\n",
    "    \n",
    "    def grad_scale(self, x, scale):\n",
    "        return (x - x * scale).detach() + x * scale\n",
    "\n",
    "    def forward(self, x):\n",
    "        step = self.alpha_weight\n",
    "        step = self.grad_scale(step, 2)\n",
    "        xs = x / step\n",
    "        if self.raise_zero:\n",
    "            xsc = torch.clamp(xs - 1 / 2, self.q_min, self.q_max)\n",
    "            xscr = self.ste_cast(xsc) + 1 / 2\n",
    "        else:\n",
    "            xsc = torch.clamp(xs, self.q_min, self.q_max)\n",
    "            xscr = self.ste_cast(xsc)\n",
    "        xq = xscr * step\n",
    "\n",
    "        print(f\"x: {x}\")\n",
    "        print(f\"step: {step.item()}\")\n",
    "        print(f\"xs: {xs}\")\n",
    "        print(f\"q_min: {self.q_min}, q_max: {self.q_max}\")\n",
    "        print(f\"xsc: {xsc}\")\n",
    "        print(f\"xscr: {xscr}\")\n",
    "        print(f\"xq: {xq}\")\n",
    "\n",
    "        return xq"
   ]
  },
  {
   "cell_type": "code",
   "execution_count": 14,
   "metadata": {},
   "outputs": [
    {
     "name": "stdout",
     "output_type": "stream",
     "text": [
      "x: 1.2000000476837158\n",
      "step: 1.0\n",
      "xs: 1.2000000476837158\n",
      "q_min: -8.0, q_max: 7.0\n",
      "xsc: 0.7000000476837158\n",
      "xscr: 1.5\n",
      "xq: 1.5\n",
      "alpha_weight.grad: 0.5999999046325684\n",
      "-8.0 7.0\n"
     ]
    }
   ],
   "source": [
    "quantizer = LSQQuantizer(bits=4)\n",
    "quantizer.is_alpha_init = True\n",
    "quantizer.alpha_weight.requires_grad = True\n",
    "x = torch.tensor(1.2)\n",
    "xq = quantizer(x)\n",
    "xq.backward()\n",
    "print(f\"alpha_weight.grad: {quantizer.alpha_weight.grad}\")\n",
    "print(quantizer.q_min, quantizer.q_max)\n"
   ]
  },
  {
   "cell_type": "code",
   "execution_count": 136,
   "metadata": {},
   "outputs": [],
   "source": [
    "class PACTQuantizer(LSQQuantizer):\n",
    "    def forward(self, x):\n",
    "        step = self.alpha_weight\n",
    "        xs = x / step\n",
    "        if self.raise_zero:\n",
    "            xsc = torch.clamp(xs - 1 / 2, self.q_min, self.q_max)\n",
    "            outlier_mask = ~torch.isclose(xsc, xs - 1 / 2)  # clipped values will be 1\n",
    "            xscr = self.ste_cast(xsc) + 1 / 2\n",
    "        else:\n",
    "            xsc = torch.clamp(xs, self.q_min, self.q_max)\n",
    "            outlier_mask = ~torch.isclose(xsc, xs)\n",
    "            xscr = self.ste_cast(xsc)\n",
    "        xq = xscr * step\n",
    "\n",
    "        print(f\"x: {x}\")\n",
    "        print(f\"step: {step.item()}\")\n",
    "        print(f\"xs: {xs}\")\n",
    "        print(f\"q_min: {self.q_min}, q_max: {self.q_max}\")\n",
    "        print(f\"xsc: {xsc}\")\n",
    "        print(f\"outlier_mask: {outlier_mask}\")\n",
    "        print(f\"xscr: {xscr}\")\n",
    "        print(f\"xq: {xq}\")\n",
    "\n",
    "        return xq * outlier_mask + (xq - xq * outlier_mask).detach()\n"
   ]
  },
  {
   "cell_type": "code",
   "execution_count": 137,
   "metadata": {},
   "outputs": [
    {
     "name": "stdout",
     "output_type": "stream",
     "text": [
      "x: tensor([[  1.3000,   1.8000],\n",
      "        [211.1000,   2.6000]])\n",
      "step: 1.0\n",
      "xs: tensor([[  1.3000,   1.8000],\n",
      "        [211.1000,   2.6000]], grad_fn=<DivBackward0>)\n",
      "q_min: -8.0, q_max: 7.0\n",
      "xsc: tensor([[0.8000, 1.3000],\n",
      "        [7.0000, 2.1000]], grad_fn=<ClampBackward1>)\n",
      "outlier_mask: tensor([[False, False],\n",
      "        [ True, False]])\n",
      "xscr: tensor([[1.5000, 1.5000],\n",
      "        [7.5000, 2.5000]], grad_fn=<AddBackward0>)\n",
      "xq: tensor([[1.5000, 1.5000],\n",
      "        [7.5000, 2.5000]], grad_fn=<MulBackward0>)\n",
      "alpha_weight.grad: 7.5\n"
     ]
    }
   ],
   "source": [
    "quantizer = PACTQuantizer(bits=4)\n",
    "quantizer.is_alpha_init = True\n",
    "quantizer.alpha_weight.requires_grad = True\n",
    "x = torch.tensor([[1.3, 1.8], [211.1, 2.6]])\n",
    "xq = quantizer(x)\n",
    "xq.sum().backward()\n",
    "print(f\"alpha_weight.grad: {quantizer.alpha_weight.grad}\")\n"
   ]
  },
  {
   "cell_type": "code",
   "execution_count": 138,
   "metadata": {},
   "outputs": [
    {
     "name": "stdout",
     "output_type": "stream",
     "text": [
      "2.513930588568423 0.3351907451424564\n"
     ]
    }
   ],
   "source": [
    "OPTIMAL_GAUSSIAN_SCALES = {\n",
    "    1: 0.7978845587140913,\n",
    "    1.585: 1.2240089519030855,\n",
    "    2: 1.4935346200015913,\n",
    "    3: 2.051068354131873,\n",
    "    4: 2.513930578568423,\n",
    "    5: 2.9160938834961225,\n",
    "    6: 3.276597282593217,\n",
    "    7: 3.6010497188221655,\n",
    "    8: 3.884938678807525,\n",
    "}\n",
    "bits = 4\n",
    "n_levels = 2**bits\n",
    "scale = OPTIMAL_GAUSSIAN_SCALES[bits] * 1 + 1e-8\n",
    "step = 2 * scale / (n_levels - 1)\n",
    "print(scale, step)"
   ]
  },
  {
   "cell_type": "code",
   "execution_count": 145,
   "metadata": {},
   "outputs": [
    {
     "name": "stdout",
     "output_type": "stream",
     "text": [
      "scale tensor([[  3.9470],\n",
      "        [375.2835]]) torch.Size([2, 1])\n",
      "step tensor([[ 0.5263],\n",
      "        [50.0378]]) torch.Size([2, 1])\n",
      "x_clip tensor([[  1.3000,   1.8000],\n",
      "        [211.1000,   2.6000]])\n",
      "xq tensor([[  1.3157,   1.8419],\n",
      "        [225.1701,  25.0189]])\n"
     ]
    }
   ],
   "source": [
    "class BaseQuantizer(nn.Module):\n",
    "    def __init__(self, bits=4):\n",
    "        super().__init__()\n",
    "        self.bits = bits\n",
    "        self.n_levels = 2**bits\n",
    "\n",
    "\n",
    "class STEQuantizer(BaseQuantizer):\n",
    "    def __init__(self, bits=4, centered=True):\n",
    "        super().__init__(bits)\n",
    "        self.centered = centered\n",
    "\n",
    "    def forward(self, x):\n",
    "        scale = OPTIMAL_GAUSSIAN_SCALES[self.bits] * torch.sqrt(torch.mean(x**2, dim=-1, keepdim=True)) + 1e-8\n",
    "        if self.centered:\n",
    "            step = 2 * scale / (self.n_levels - 1)\n",
    "            x_clip = torch.clamp(x, -scale, scale)\n",
    "            xq = torch.round(x_clip / step + 1 / 2) * step - step / 2\n",
    "        else:\n",
    "            step = 2 * scale / self.n_levels\n",
    "            x_clip = torch.clamp(x, -scale * (self.n_levels - 2) / self.n_levels, scale)\n",
    "            xq = torch.round(x_clip / step) * step\n",
    "        print(\"scale\", scale, scale.shape)\n",
    "        print(\"step\", step, step.shape)\n",
    "        print(\"x_clip\", x_clip)\n",
    "        print(\"xq\", xq)\n",
    "        return x + (xq - x).detach()\n",
    "\n",
    "quantizer = STEQuantizer(bits=4)\n",
    "x = torch.tensor([[1.3, 1.8], [211.1, 2.6]])\n",
    "xq = quantizer(x)"
   ]
  },
  {
   "cell_type": "code",
   "execution_count": null,
   "metadata": {},
   "outputs": [],
   "source": []
  }
 ],
 "metadata": {
  "kernelspec": {
   "display_name": "Python 3 (ipykernel)",
   "language": "python",
   "name": "python3"
  }
 },
 "nbformat": 4,
 "nbformat_minor": 2
}
