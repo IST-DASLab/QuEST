{
 "cells": [
  {
   "cell_type": "code",
   "execution_count": 1,
   "metadata": {},
   "outputs": [
    {
     "data": {
      "application/vnd.jupyter.widget-view+json": {
       "model_id": "e19e1c22d3ec4726901eac7027447c64",
       "version_major": 2,
       "version_minor": 0
      },
      "text/plain": [
       "Fetching 3 files:   0%|          | 0/3 [00:00<?, ?it/s]"
      ]
     },
     "metadata": {},
     "output_type": "display_data"
    },
    {
     "data": {
      "application/vnd.jupyter.widget-view+json": {
       "model_id": "cf94e6935be7405d94c4218dfe27e920",
       "version_major": 2,
       "version_minor": 0
      },
      "text/plain": [
       "summary.json:   0%|          | 0.00/1.80k [00:00<?, ?B/s]"
      ]
     },
     "metadata": {},
     "output_type": "display_data"
    },
    {
     "data": {
      "application/vnd.jupyter.widget-view+json": {
       "model_id": "9aaa76bcf346482baa8e57a0c07a3c80",
       "version_major": 2,
       "version_minor": 0
      },
      "text/plain": [
       ".gitattributes:   0%|          | 0.00/1.52k [00:00<?, ?B/s]"
      ]
     },
     "metadata": {},
     "output_type": "display_data"
    },
    {
     "data": {
      "text/plain": [
       "'/mloscratch/homes/panferov/schedules-and-scaling/testing-800m'"
      ]
     },
     "execution_count": 1,
     "metadata": {},
     "output_type": "execute_result"
    }
   ],
   "source": [
    "from huggingface_hub import snapshot_download\n",
    "\n",
    "snapshot_download(repo_id=\"daslab-testing/testing-800m\", local_dir=\"../testing-800m\")"
   ]
  },
  {
   "cell_type": "code",
   "execution_count": 2,
   "metadata": {},
   "outputs": [],
   "source": [
    "import json\n",
    "\n",
    "from optim.utils import load_checkpoint\n",
    "from models.utils import get_model\n",
    "\n",
    "\n",
    "class DotDict(dict):\n",
    "    def __getattr__(self, key):\n",
    "        try:\n",
    "            return self[key]\n",
    "        except KeyError:\n",
    "            raise AttributeError(f\"'DotDict' object has no attribute '{key}'\")\n",
    "\n",
    "    def __setattr__(self, key, value):\n",
    "        self[key] = value\n",
    "\n",
    "\n",
    "PATH = \"../exps/UNTIED-800M-TrustQuantizer@4:TrustQuantizer@4-c4_c4_llama_nlayers16_nhead16_lr7.5e-05_sched_cos_warmup30517_decay_linear_0.1_iter305175_bs32x2_ws8_seed0_data_seed1337\" # \"../testing-800m\"\n",
    "with open(f\"{PATH}/summary.json\", \"r\") as f:\n",
    "    config = json.load(f)\n"
   ]
  },
  {
   "cell_type": "code",
   "execution_count": 3,
   "metadata": {},
   "outputs": [],
   "source": [
    "import torch\n",
    "from torch import nn\n",
    "import torch.nn.functional as F\n",
    "\n",
    "from fast_hadamard_transform import hadamard_transform\n",
    "\n",
    "from models.quantization.base_linear import OPTIMAL_GAUSSIAN_SCALES, TrustQuantizer\n",
    "\n",
    "\n",
    "def quantize_pack_dense(x: torch.Tensor, quantizer: TrustQuantizer):\n",
    "    assert quantizer.centered\n",
    "    std = torch.sqrt(torch.mean(x**2, dim=-1, keepdim=True))\n",
    "    scale = OPTIMAL_GAUSSIAN_SCALES[quantizer.bits] * std + 1e-8\n",
    "\n",
    "    step = 2 * scale / (quantizer.n_levels - 1)\n",
    "    x_clip = torch.clamp(x, -scale, scale)\n",
    "    xq = torch.round((x_clip + scale) / step)\n",
    "\n",
    "    assert xq.min() >= 0 and xq.max() < quantizer.n_levels\n",
    "    return xq, scale, step\n",
    "\n",
    "def dequantize_dense(xq, scale, step):\n",
    "    return xq * step - scale\n",
    "\n",
    "\n",
    "weight = torch.rand(2, 128).cuda()\n",
    "quantizer = TrustQuantizer(bits=4, centered=True)\n",
    "ref = quantizer(weight)\n",
    "xq, scale, step = quantize_pack_dense(weight, quantizer)\n",
    "deq = dequantize_dense(xq, scale, step)\n",
    "\n",
    "torch.testing.assert_close(ref, deq, rtol=1e-4, atol=1e-4)"
   ]
  },
  {
   "cell_type": "code",
   "execution_count": 4,
   "metadata": {},
   "outputs": [],
   "source": [
    "from models.quantization.base_linear import QuantizedLinear\n",
    "\n",
    "class Linear4bit(nn.Module):\n",
    "    def __init__(self, quantizer_linear):\n",
    "        super().__init__()\n",
    "        \n",
    "        assert isinstance(quantizer_linear.weight_quantizer, TrustQuantizer)\n",
    "        assert isinstance(quantizer_linear.activation_quantizer, TrustQuantizer)\n",
    "        \n",
    "        self.activation_quantizer = quantizer_linear.activation_quantizer\n",
    "        \n",
    "        wq = dequantize_dense(*quantize_pack_dense(quantizer_linear.weight, quantizer_linear.weight_quantizer))\n",
    "        self.register_buffer(\"wq\", wq)\n",
    "        self.bias = quantizer_linear.bias\n",
    "\n",
    "    def forward(self, x):\n",
    "        x = dequantize_dense(*quantize_pack_dense(x, self.activation_quantizer))\n",
    "        return F.linear(x, self.wq, self.bias)\n",
    "\n",
    "\n",
    "def replace_linears(model):\n",
    "    for name, module in model.named_children():\n",
    "        if isinstance(module, QuantizedLinear):\n",
    "            model._modules[name] = Linear4bit(module)\n",
    "        else:\n",
    "            replace_linears(module)\n",
    "    return model"
   ]
  },
  {
   "cell_type": "code",
   "execution_count": 5,
   "metadata": {},
   "outputs": [
    {
     "name": "stderr",
     "output_type": "stream",
     "text": [
      "/mloscratch/homes/panferov/schedules-and-scaling/src/optim/utils.py:263: FutureWarning: You are using `torch.load` with `weights_only=False` (the current default value), which uses the default pickle module implicitly. It is possible to construct malicious pickle data which will execute arbitrary code during unpickling (See https://github.com/pytorch/pytorch/blob/main/SECURITY.md#untrusted-models for more details). In a future release, the default value for `weights_only` will be flipped to `True`. This limits the functions that could be executed during unpickling. Arbitrary objects will no longer be allowed to be loaded via this mode unless they are explicitly allowlisted by the user via `torch.serialization.add_safe_globals`. We recommend you start setting `weights_only=True` for any use case where you don't have full control of the loaded file. Please open an issue on GitHub for any issues related to this experimental feature.\n",
      "  ckpt = torch.load(ckpt_path, map_location=device)\n"
     ]
    }
   ],
   "source": [
    "class PseudoDdp(nn.Module):\n",
    "    def __init__(self, model):\n",
    "        super().__init__()\n",
    "        self._orig_mod = nn.ModuleDict({\n",
    "            \"module\": model,\n",
    "        })\n",
    "        \n",
    "class PseudoLoader:\n",
    "    def load_state_dict(self, *args, **kwargs):\n",
    "        pass\n",
    "\n",
    "model = PseudoDdp(get_model(DotDict(config['args'])))\n",
    "load_checkpoint(model, PseudoLoader(), PseudoLoader(), f\"{PATH}/ckpts/latest/main.pt\", \"cuda\")\n",
    "model = model.cuda()\n",
    "model = model._orig_mod[\"module\"]\n",
    "model = replace_linears(model)\n"
   ]
  },
  {
   "cell_type": "code",
   "execution_count": 6,
   "metadata": {},
   "outputs": [],
   "source": [
    "from transformers import AutoTokenizer\n",
    "\n",
    "tokenizer = AutoTokenizer.from_pretrained(\"meta-llama/Llama-2-7b-hf\")"
   ]
  },
  {
   "cell_type": "code",
   "execution_count": 7,
   "metadata": {},
   "outputs": [
    {
     "name": "stdout",
     "output_type": "stream",
     "text": [
      "Hi! Sign in to let us know how The Coffee Shop was?\n",
      "by jessica\n"
     ]
    }
   ],
   "source": [
    "def generate_text_greedily(model, tokenizer, prompt, max_length=50, device='cuda'):\n",
    "    model.eval()\n",
    "    input_ids = tokenizer.encode(prompt, return_tensors='pt').to(device)\n",
    "    \n",
    "    for _ in range(max_length):\n",
    "        with torch.no_grad():\n",
    "            outputs = model(input_ids, get_logits=True)\n",
    "            logits = outputs['logits'][:, -1, :]\n",
    "        \n",
    "        next_token_id = torch.argmax(logits, dim=-1).unsqueeze(-1)\n",
    "        input_ids = torch.cat([input_ids, next_token_id], dim=-1)\n",
    "        \n",
    "    return tokenizer.decode(input_ids[0], skip_special_tokens=True)\n",
    "\n",
    "generated_text = generate_text_greedily(model, tokenizer, \"Hi!\", max_length=20)\n",
    "print(generated_text)\n"
   ]
  },
  {
   "cell_type": "code",
   "execution_count": 8,
   "metadata": {},
   "outputs": [
    {
     "name": "stdout",
     "output_type": "stream",
     "text": [
      "822.083584\n"
     ]
    }
   ],
   "source": [
    "numel = 0\n",
    "for name, param in model.named_buffers():\n",
    "    numel += param.numel()\n",
    "    \n",
    "print(numel/1e6)"
   ]
  },
  {
   "cell_type": "code",
   "execution_count": null,
   "metadata": {},
   "outputs": [],
   "source": []
  }
 ],
 "metadata": {
  "kernelspec": {
   "display_name": ".conda",
   "language": "python",
   "name": "python3"
  },
  "language_info": {
   "codemirror_mode": {
    "name": "ipython",
    "version": 3
   },
   "file_extension": ".py",
   "mimetype": "text/x-python",
   "name": "python",
   "nbconvert_exporter": "python",
   "pygments_lexer": "ipython3",
   "version": "3.11.11"
  }
 },
 "nbformat": 4,
 "nbformat_minor": 2
}
