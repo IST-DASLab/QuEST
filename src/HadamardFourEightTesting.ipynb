{
 "cells": [
  {
   "cell_type": "code",
   "execution_count": null,
   "metadata": {},
   "outputs": [
    {
     "data": {
      "application/vnd.jupyter.widget-view+json": {
       "model_id": "ad0a5d17f8d4469fb24b40dbe7efcb61",
       "version_major": 2,
       "version_minor": 0
      },
      "text/plain": [
       "Fetching 3 files:   0%|          | 0/3 [00:00<?, ?it/s]"
      ]
     },
     "metadata": {},
     "output_type": "display_data"
    },
    {
     "data": {
      "application/vnd.jupyter.widget-view+json": {
       "model_id": "a2db30000fe7484d9ddfe350701f52f8",
       "version_major": 2,
       "version_minor": 0
      },
      "text/plain": [
       ".gitattributes:   0%|          | 0.00/1.52k [00:00<?, ?B/s]"
      ]
     },
     "metadata": {},
     "output_type": "display_data"
    },
    {
     "data": {
      "application/vnd.jupyter.widget-view+json": {
       "model_id": "1ec39b13c8e5415bb32086cea8689714",
       "version_major": 2,
       "version_minor": 0
      },
      "text/plain": [
       "summary.json:   0%|          | 0.00/1.87k [00:00<?, ?B/s]"
      ]
     },
     "metadata": {},
     "output_type": "display_data"
    },
    {
     "data": {
      "application/vnd.jupyter.widget-view+json": {
       "model_id": "6d8c1003de294fb294677b56d0db11a5",
       "version_major": 2,
       "version_minor": 0
      },
      "text/plain": [
       "main.pt:   0%|          | 0.00/4.11G [00:00<?, ?B/s]"
      ]
     },
     "metadata": {},
     "output_type": "display_data"
    },
    {
     "data": {
      "text/plain": [
       "'/nfs/scistore19/alistgrp/apanfero/QuEST/QuEST-800M-sparse-INT4'"
      ]
     },
     "execution_count": 1,
     "metadata": {},
     "output_type": "execute_result"
    }
   ],
   "source": [
    "from huggingface_hub import snapshot_download\n",
    "\n",
    "PATH = \"../QuEST-800M-sparse-INT4\"\n",
    "snapshot_download(repo_id=\"ISTA-DASLab/QuEST-800M-sparse-INT4\", local_dir=PATH)"
   ]
  },
  {
   "cell_type": "code",
   "execution_count": 2,
   "metadata": {},
   "outputs": [],
   "source": [
    "import json\n",
    "\n",
    "from optim.utils import load_checkpoint\n",
    "from models.utils import get_model\n",
    "\n",
    "\n",
    "class DotDict(dict):\n",
    "    def __getattr__(self, key):\n",
    "        try:\n",
    "            return self[key]\n",
    "        except KeyError:\n",
    "            raise AttributeError(f\"'DotDict' object has no attribute '{key}'\")\n",
    "\n",
    "    def __setattr__(self, key, value):\n",
    "        self[key] = value\n",
    "\n",
    "\n",
    "with open(f\"{PATH}/summary.json\", \"r\") as f:\n",
    "    config = json.load(f)\n"
   ]
  },
  {
   "cell_type": "code",
   "execution_count": 8,
   "metadata": {},
   "outputs": [],
   "source": [
    "import torch\n",
    "from torch import nn\n",
    "import torch.nn.functional as F\n",
    "\n",
    "from fast_hadamard_transform import hadamard_transform\n",
    "\n",
    "from models.quantization.base_linear import OPTIMAL_GAUSSIAN_SCALES, HalfHadamardFourEightTrustQuantizer, HalfHadamardTrustQuantizer\n",
    "\n",
    "\n",
    "def quantize_pack_hadamard_four_eight(x: torch.Tensor, quantizer: HalfHadamardFourEightTrustQuantizer):\n",
    "    x_had = hadamard_transform(x.reshape(-1, 128), scale=2 ** (-7/2)).reshape(x.shape)\n",
    "    \n",
    "    std = torch.sqrt(torch.mean(x_had**2, dim=-1, keepdim=True)) + 1e-8\n",
    "    scale = OPTIMAL_GAUSSIAN_SCALES[quantizer.bits] * std\n",
    "\n",
    "    step = 2 * scale / (quantizer.n_levels - 1)\n",
    "    x_clip = torch.clamp(x_had, -scale, scale)\n",
    "    xq = torch.round(x_clip / step + 1/2) * step - step / 2\n",
    "\n",
    "    _, val_idx = x_had.reshape(-1, 4, 2).norm(p=quantizer.p, dim=-1).topk(k=2, dim=-1, largest=True)\n",
    "    xq = xq.reshape(-1, 4, 2)\n",
    "    xq_sparse = xq[\n",
    "        torch.arange(xq.size(0)).repeat(2, 1).T,\n",
    "        val_idx,\n",
    "    ]\n",
    "    xq_sparse = xq_sparse.reshape(x.shape[:-1] + (x.shape[-1] // 2,))\n",
    "\n",
    "    xq_sparse = torch.round((xq_sparse + scale) / step)\n",
    "    assert xq_sparse.min() >= 0 and xq_sparse.max() < quantizer.n_levels\n",
    "    return xq_sparse, val_idx, scale, step\n",
    "    # ^ note: xq_sparse is in rotated space!\n",
    "\n",
    "\n",
    "def dequantize_four_eight(xq_sparse, val_idx, scale, step):\n",
    "    weight = torch.zeros((xq_sparse.numel() // 4, 4, 2), dtype=torch.float32, device=xq_sparse.device)\n",
    "    \n",
    "    weight[\n",
    "        torch.arange(weight.size(0)).repeat(2, 1).T,\n",
    "        val_idx,\n",
    "    ] = (xq_sparse.to(torch.float32) * step - scale).reshape(-1, 2, 2)\n",
    "    \n",
    "    return weight.reshape(xq_sparse.shape[:-1] + (xq_sparse.shape[-1] * 2,))\n",
    "\n",
    "\n",
    "weight = torch.rand(2, 128).cuda()\n",
    "quantizer = HadamardFourEightTrustQuantizer(bits=4)\n",
    "\n",
    "ref = quantizer(weight)\n",
    "xq_sparse, idx, scale, step = quantize_pack_hadamard_four_eight(weight, quantizer)\n",
    "deq = dequantize_four_eight(xq_sparse, idx, scale, step)\n",
    "\n",
    "torch.testing.assert_close(hadamard_transform(ref.reshape(-1, 128), scale=2 ** (-7/2)).reshape(ref.shape), deq, rtol=1e-3, atol=1e-3)"
   ]
  },
  {
   "cell_type": "code",
   "execution_count": 9,
   "metadata": {},
   "outputs": [],
   "source": [
    "def quantize_pack_hadamard_dense(x: torch.Tensor, quantizer: HalfHadamardTrustQuantizer):\n",
    "    assert quantizer.centered\n",
    "    x_had = hadamard_transform(x.reshape(-1, 128), scale=2 ** (-7/2)).reshape(x.shape)\n",
    "    \n",
    "    std = torch.sqrt(torch.mean(x_had**2, dim=-1, keepdim=True)) + 1e-8\n",
    "    scale = OPTIMAL_GAUSSIAN_SCALES[quantizer.bits] * std\n",
    "\n",
    "    step = 2 * scale / (quantizer.n_levels - 1)\n",
    "    x_clip = torch.clamp(x_had, -scale, scale)\n",
    "    xq = torch.round((x_clip + scale) / step)\n",
    "\n",
    "    assert xq.min() >= 0 and xq.max() < quantizer.n_levels\n",
    "    return xq, scale, step\n",
    "    # ^ note: xq is in rotated space!\n",
    "\n",
    "def dequantize_dense(xq, scale, step):\n",
    "    return xq * step - scale\n",
    "\n",
    "\n",
    "quantizer = HadamardTrustQuantizer(bits=4)\n",
    "ref = quantizer(weight)\n",
    "xq, scale, step = quantize_pack_hadamard_dense(weight, quantizer)\n",
    "deq = dequantize_dense(xq, scale, step)\n",
    "\n",
    "torch.testing.assert_close(hadamard_transform(ref.reshape(-1, 128), scale=2 ** (-7/2)).reshape(ref.shape), deq, rtol=1e-3, atol=1e-3)"
   ]
  },
  {
   "cell_type": "code",
   "execution_count": 10,
   "metadata": {},
   "outputs": [],
   "source": [
    "from models.quantization.base_linear import QuantizedLinear\n",
    "\n",
    "class Linear4bit(nn.Module):\n",
    "    def __init__(self, quantizer_linear):\n",
    "        super().__init__()\n",
    "        \n",
    "        assert isinstance(quantizer_linear.weight_quantizer, HalfHadamardFourEightTrustQuantizer)\n",
    "        assert isinstance(quantizer_linear.activation_quantizer, HalfHadamardTrustQuantizer)\n",
    "        \n",
    "        self.activation_quantizer = quantizer_linear.activation_quantizer\n",
    "        \n",
    "        wq = dequantize_four_eight(*quantize_pack_hadamard_four_eight(quantizer_linear.weight, quantizer_linear.weight_quantizer))\n",
    "        self.register_buffer(\"wq\", wq)\n",
    "        self.bias = quantizer_linear.bias\n",
    "\n",
    "    def forward(self, x):\n",
    "        x = dequantize_dense(*quantize_pack_hadamard_dense(x, self.activation_quantizer))\n",
    "        return F.linear(x, self.wq, self.bias)\n",
    "\n",
    "\n",
    "def replace_linears(model):\n",
    "    for name, module in model.named_children():\n",
    "        if isinstance(module, QuantizedLinear):\n",
    "            model._modules[name] = Linear4bit(module)\n",
    "        else:\n",
    "            replace_linears(module)\n",
    "    return model"
   ]
  },
  {
   "cell_type": "code",
   "execution_count": 11,
   "metadata": {},
   "outputs": [
    {
     "name": "stderr",
     "output_type": "stream",
     "text": [
      "/tmp/ipykernel_1821480/3698311930.py:13: FutureWarning: You are using `torch.load` with `weights_only=False` (the current default value), which uses the default pickle module implicitly. It is possible to construct malicious pickle data which will execute arbitrary code during unpickling (See https://github.com/pytorch/pytorch/blob/main/SECURITY.md#untrusted-models for more details). In a future release, the default value for `weights_only` will be flipped to `True`. This limits the functions that could be executed during unpickling. Arbitrary objects will no longer be allowed to be loaded via this mode unless they are explicitly allowlisted by the user via `torch.serialization.add_safe_globals`. We recommend you start setting `weights_only=True` for any use case where you don't have full control of the loaded file. Please open an issue on GitHub for any issues related to this experimental feature.\n",
      "  model.load_state_dict(torch.load(f\"{PATH}/main.pt\", map_location=\"cpu\")[\"model\"])\n"
     ]
    }
   ],
   "source": [
    "class PseudoDdp(nn.Module):\n",
    "    def __init__(self, model):\n",
    "        super().__init__()\n",
    "        self._orig_mod = nn.ModuleDict({\n",
    "            \"module\": model,\n",
    "        })\n",
    "        \n",
    "class PseudoLoader:\n",
    "    def load_state_dict(self, *args, **kwargs):\n",
    "        pass\n",
    "\n",
    "model = PseudoDdp(get_model(DotDict(config['args'])))\n",
    "model.load_state_dict(torch.load(f\"{PATH}/main.pt\", map_location=\"cpu\")[\"model\"])\n",
    "model = model.cuda()\n",
    "model = model._orig_mod[\"module\"]\n",
    "model = replace_linears(model)\n"
   ]
  },
  {
   "cell_type": "code",
   "execution_count": 12,
   "metadata": {},
   "outputs": [],
   "source": [
    "from transformers import AutoTokenizer\n",
    "\n",
    "tokenizer = AutoTokenizer.from_pretrained(\"meta-llama/Llama-2-7b-hf\")"
   ]
  },
  {
   "cell_type": "code",
   "execution_count": 13,
   "metadata": {},
   "outputs": [
    {
     "name": "stdout",
     "output_type": "stream",
     "text": [
      "Hi! I am a 20 year old student from the United States. I am currently studying at the\n"
     ]
    }
   ],
   "source": [
    "def generate_text_greedily(model, tokenizer, prompt, max_length=50, device='cuda'):\n",
    "    model.eval()\n",
    "    input_ids = tokenizer.encode(prompt, return_tensors='pt').to(device)\n",
    "    \n",
    "    for _ in range(max_length):\n",
    "        with torch.no_grad():\n",
    "            outputs = model(input_ids, get_logits=True)\n",
    "            logits = outputs['logits'][:, -1, :]\n",
    "        \n",
    "        next_token_id = torch.argmax(logits, dim=-1).unsqueeze(-1)\n",
    "        input_ids = torch.cat([input_ids, next_token_id], dim=-1)\n",
    "        \n",
    "    return tokenizer.decode(input_ids[0], skip_special_tokens=True)\n",
    "\n",
    "generated_text = generate_text_greedily(model, tokenizer, \"Hi!\", max_length=20)\n",
    "print(generated_text)\n"
   ]
  },
  {
   "cell_type": "code",
   "execution_count": 14,
   "metadata": {},
   "outputs": [
    {
     "name": "stdout",
     "output_type": "stream",
     "text": [
      "transformer.h.0.attn.c_attn.wq 12582912\n",
      "transformer.h.0.attn.c_proj.wq 4194304\n",
      "transformer.h.0.mlp.w1.wq 11534336\n",
      "transformer.h.0.mlp.w2.wq 11534336\n",
      "transformer.h.0.mlp.c_proj.wq 11534336\n",
      "transformer.h.1.attn.c_attn.wq 12582912\n",
      "transformer.h.1.attn.c_proj.wq 4194304\n",
      "transformer.h.1.mlp.w1.wq 11534336\n",
      "transformer.h.1.mlp.w2.wq 11534336\n",
      "transformer.h.1.mlp.c_proj.wq 11534336\n",
      "transformer.h.2.attn.c_attn.wq 12582912\n",
      "transformer.h.2.attn.c_proj.wq 4194304\n",
      "transformer.h.2.mlp.w1.wq 11534336\n",
      "transformer.h.2.mlp.w2.wq 11534336\n",
      "transformer.h.2.mlp.c_proj.wq 11534336\n",
      "transformer.h.3.attn.c_attn.wq 12582912\n",
      "transformer.h.3.attn.c_proj.wq 4194304\n",
      "transformer.h.3.mlp.w1.wq 11534336\n",
      "transformer.h.3.mlp.w2.wq 11534336\n",
      "transformer.h.3.mlp.c_proj.wq 11534336\n",
      "transformer.h.4.attn.c_attn.wq 12582912\n",
      "transformer.h.4.attn.c_proj.wq 4194304\n",
      "transformer.h.4.mlp.w1.wq 11534336\n",
      "transformer.h.4.mlp.w2.wq 11534336\n",
      "transformer.h.4.mlp.c_proj.wq 11534336\n",
      "transformer.h.5.attn.c_attn.wq 12582912\n",
      "transformer.h.5.attn.c_proj.wq 4194304\n",
      "transformer.h.5.mlp.w1.wq 11534336\n",
      "transformer.h.5.mlp.w2.wq 11534336\n",
      "transformer.h.5.mlp.c_proj.wq 11534336\n",
      "transformer.h.6.attn.c_attn.wq 12582912\n",
      "transformer.h.6.attn.c_proj.wq 4194304\n",
      "transformer.h.6.mlp.w1.wq 11534336\n",
      "transformer.h.6.mlp.w2.wq 11534336\n",
      "transformer.h.6.mlp.c_proj.wq 11534336\n",
      "transformer.h.7.attn.c_attn.wq 12582912\n",
      "transformer.h.7.attn.c_proj.wq 4194304\n",
      "transformer.h.7.mlp.w1.wq 11534336\n",
      "transformer.h.7.mlp.w2.wq 11534336\n",
      "transformer.h.7.mlp.c_proj.wq 11534336\n",
      "transformer.h.8.attn.c_attn.wq 12582912\n",
      "transformer.h.8.attn.c_proj.wq 4194304\n",
      "transformer.h.8.mlp.w1.wq 11534336\n",
      "transformer.h.8.mlp.w2.wq 11534336\n",
      "transformer.h.8.mlp.c_proj.wq 11534336\n",
      "transformer.h.9.attn.c_attn.wq 12582912\n",
      "transformer.h.9.attn.c_proj.wq 4194304\n",
      "transformer.h.9.mlp.w1.wq 11534336\n",
      "transformer.h.9.mlp.w2.wq 11534336\n",
      "transformer.h.9.mlp.c_proj.wq 11534336\n",
      "transformer.h.10.attn.c_attn.wq 12582912\n",
      "transformer.h.10.attn.c_proj.wq 4194304\n",
      "transformer.h.10.mlp.w1.wq 11534336\n",
      "transformer.h.10.mlp.w2.wq 11534336\n",
      "transformer.h.10.mlp.c_proj.wq 11534336\n",
      "transformer.h.11.attn.c_attn.wq 12582912\n",
      "transformer.h.11.attn.c_proj.wq 4194304\n",
      "transformer.h.11.mlp.w1.wq 11534336\n",
      "transformer.h.11.mlp.w2.wq 11534336\n",
      "transformer.h.11.mlp.c_proj.wq 11534336\n",
      "transformer.h.12.attn.c_attn.wq 12582912\n",
      "transformer.h.12.attn.c_proj.wq 4194304\n",
      "transformer.h.12.mlp.w1.wq 11534336\n",
      "transformer.h.12.mlp.w2.wq 11534336\n",
      "transformer.h.12.mlp.c_proj.wq 11534336\n",
      "transformer.h.13.attn.c_attn.wq 12582912\n",
      "transformer.h.13.attn.c_proj.wq 4194304\n",
      "transformer.h.13.mlp.w1.wq 11534336\n",
      "transformer.h.13.mlp.w2.wq 11534336\n",
      "transformer.h.13.mlp.c_proj.wq 11534336\n",
      "transformer.h.14.attn.c_attn.wq 12582912\n",
      "transformer.h.14.attn.c_proj.wq 4194304\n",
      "transformer.h.14.mlp.w1.wq 11534336\n",
      "transformer.h.14.mlp.w2.wq 11534336\n",
      "transformer.h.14.mlp.c_proj.wq 11534336\n",
      "transformer.h.15.attn.c_attn.wq 12582912\n",
      "transformer.h.15.attn.c_proj.wq 4194304\n",
      "transformer.h.15.mlp.w1.wq 11534336\n",
      "transformer.h.15.mlp.w2.wq 11534336\n",
      "transformer.h.15.mlp.c_proj.wq 11534336\n",
      "822.083584\n"
     ]
    }
   ],
   "source": [
    "numel = 0\n",
    "for name, param in model.named_buffers():\n",
    "    numel += param.numel()\n",
    "    print(name, param.numel())\n",
    "    \n",
    "print(numel/1e6)"
   ]
  },
  {
   "cell_type": "code",
   "execution_count": null,
   "metadata": {},
   "outputs": [],
   "source": []
  }
 ],
 "metadata": {
  "kernelspec": {
   "display_name": "transformers",
   "language": "python",
   "name": "python3"
  },
  "language_info": {
   "codemirror_mode": {
    "name": "ipython",
    "version": 3
   },
   "file_extension": ".py",
   "mimetype": "text/x-python",
   "name": "python",
   "nbconvert_exporter": "python",
   "pygments_lexer": "ipython3",
   "version": "3.10.13"
  }
 },
 "nbformat": 4,
 "nbformat_minor": 2
}
