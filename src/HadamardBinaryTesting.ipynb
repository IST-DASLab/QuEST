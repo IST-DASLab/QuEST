{
 "cells": [
  {
   "cell_type": "code",
   "execution_count": 1,
   "metadata": {},
   "outputs": [
    {
     "data": {
      "application/vnd.jupyter.widget-view+json": {
       "model_id": "645b173344474ba28ceb851894c3b52e",
       "version_major": 2,
       "version_minor": 0
      },
      "text/plain": [
       "Fetching 3 files:   0%|          | 0/3 [00:00<?, ?it/s]"
      ]
     },
     "metadata": {},
     "output_type": "display_data"
    },
    {
     "data": {
      "text/plain": [
       "'/nfs/scistore19/alistgrp/apanfero/QuEST/QuEST-800M-INT1'"
      ]
     },
     "execution_count": 1,
     "metadata": {},
     "output_type": "execute_result"
    }
   ],
   "source": [
    "from huggingface_hub import snapshot_download\n",
    "\n",
    "PATH = \"../QuEST-800M-INT1\"\n",
    "snapshot_download(repo_id=\"ISTA-DASLab/QuEST-800M-INT1\", local_dir=\"../QuEST-800M-INT1\")"
   ]
  },
  {
   "cell_type": "code",
   "execution_count": 2,
   "metadata": {},
   "outputs": [],
   "source": [
    "import json\n",
    "\n",
    "from optim.utils import load_checkpoint\n",
    "from models.utils import get_model\n",
    "\n",
    "\n",
    "class DotDict(dict):\n",
    "    def __getattr__(self, key):\n",
    "        try:\n",
    "            return self[key]\n",
    "        except KeyError:\n",
    "            raise AttributeError(f\"'DotDict' object has no attribute '{key}'\")\n",
    "\n",
    "    def __setattr__(self, key, value):\n",
    "        self[key] = value\n",
    "\n",
    "\n",
    "with open(f\"{PATH}/summary.json\", \"r\") as f:\n",
    "    config = json.load(f)"
   ]
  },
  {
   "cell_type": "code",
   "execution_count": 3,
   "metadata": {},
   "outputs": [],
   "source": [
    "import torch\n",
    "from torch import nn\n",
    "import torch.nn.functional as F\n",
    "\n",
    "from fast_hadamard_transform import hadamard_transform\n",
    "\n",
    "from models.quantization.base_linear import OPTIMAL_GAUSSIAN_SCALES, HadamardTrustQuantizer, HalfHadamardTrustQuantizer\n",
    "\n",
    "\n",
    "def quantize_pack_hadamard_dense(x: torch.Tensor, quantizer: HadamardTrustQuantizer):\n",
    "    assert quantizer.centered\n",
    "    x_had = hadamard_transform(x.reshape(-1, 128), scale=2 ** (-7/2)).reshape(x.shape)\n",
    "    \n",
    "    std = torch.sqrt(torch.mean(x_had**2, dim=-1, keepdim=True)) + 1e-8\n",
    "    scale = OPTIMAL_GAUSSIAN_SCALES[quantizer.bits] * std\n",
    "\n",
    "    step = 2 * scale / (quantizer.n_levels - 1)\n",
    "    x_clip = torch.clamp(x_had, -scale, scale)\n",
    "    xq = torch.round((x_clip + scale) / step)\n",
    "\n",
    "    assert xq.min() >= 0 and xq.max() < quantizer.n_levels\n",
    "    return xq, scale, step\n",
    "    # ^ note: xq is in rotated space!\n",
    "\n",
    "def dequantize_dense(xq, scale, step):\n",
    "    return xq * step - scale\n",
    "\n",
    "weight = torch.rand(2, 128).cuda()\n",
    "quantizer = HadamardTrustQuantizer(bits=1)\n",
    "ref = quantizer(weight)\n",
    "xq, scale, step = quantize_pack_hadamard_dense(weight, quantizer)\n",
    "deq = dequantize_dense(xq, scale, step)\n",
    "\n",
    "torch.testing.assert_close(hadamard_transform(ref.reshape(-1, 128), scale=2 ** (-7/2)).reshape(ref.shape), deq, rtol=1e-3, atol=1e-3)"
   ]
  },
  {
   "cell_type": "code",
   "execution_count": 4,
   "metadata": {},
   "outputs": [],
   "source": [
    "from models.quantization.base_linear import QuantizedLinear, HadamardClipQuantizer\n",
    "\n",
    "class Linear4bit(nn.Module):\n",
    "    def __init__(self, quantizer_linear):\n",
    "        super().__init__()\n",
    "        \n",
    "        assert isinstance(quantizer_linear.weight_quantizer, HadamardClipQuantizer)\n",
    "        assert isinstance(quantizer_linear.activation_quantizer, HadamardClipQuantizer)\n",
    "        \n",
    "        self.activation_quantizer = quantizer_linear.activation_quantizer\n",
    "        \n",
    "        wq = dequantize_dense(*quantize_pack_hadamard_dense(quantizer_linear.weight, quantizer_linear.weight_quantizer))\n",
    "        self.register_buffer(\"wq\", wq)\n",
    "        self.bias = quantizer_linear.bias\n",
    "\n",
    "    def forward(self, x):\n",
    "        x = dequantize_dense(*quantize_pack_hadamard_dense(x, self.activation_quantizer))\n",
    "        return F.linear(x, self.wq, self.bias)\n",
    "\n",
    "\n",
    "def replace_linears(model):\n",
    "    for name, module in model.named_children():\n",
    "        if isinstance(module, QuantizedLinear):\n",
    "            model._modules[name] = Linear4bit(module)\n",
    "        else:\n",
    "            replace_linears(module)\n",
    "    return model"
   ]
  },
  {
   "cell_type": "code",
   "execution_count": 5,
   "metadata": {},
   "outputs": [
    {
     "name": "stderr",
     "output_type": "stream",
     "text": [
      "/tmp/ipykernel_1864752/665768043.py:13: FutureWarning: You are using `torch.load` with `weights_only=False` (the current default value), which uses the default pickle module implicitly. It is possible to construct malicious pickle data which will execute arbitrary code during unpickling (See https://github.com/pytorch/pytorch/blob/main/SECURITY.md#untrusted-models for more details). In a future release, the default value for `weights_only` will be flipped to `True`. This limits the functions that could be executed during unpickling. Arbitrary objects will no longer be allowed to be loaded via this mode unless they are explicitly allowlisted by the user via `torch.serialization.add_safe_globals`. We recommend you start setting `weights_only=True` for any use case where you don't have full control of the loaded file. Please open an issue on GitHub for any issues related to this experimental feature.\n",
      "  model.load_state_dict(torch.load(f\"{PATH}/main.pt\", map_location=\"cpu\"))\n"
     ]
    }
   ],
   "source": [
    "class PseudoDdp(nn.Module):\n",
    "    def __init__(self, model):\n",
    "        super().__init__()\n",
    "        self._orig_mod = nn.ModuleDict({\n",
    "            \"module\": model,\n",
    "        })\n",
    "        \n",
    "class PseudoLoader:\n",
    "    def load_state_dict(self, *args, **kwargs):\n",
    "        pass\n",
    "\n",
    "model = PseudoDdp(get_model(DotDict(config['args'])))\n",
    "model.load_state_dict(torch.load(f\"{PATH}/main.pt\", map_location=\"cpu\"))\n",
    "model = model.cuda()\n",
    "model = model._orig_mod[\"module\"]\n",
    "model = replace_linears(model)\n"
   ]
  },
  {
   "cell_type": "code",
   "execution_count": 6,
   "metadata": {},
   "outputs": [],
   "source": [
    "from transformers import AutoTokenizer\n",
    "\n",
    "tokenizer = AutoTokenizer.from_pretrained(\"meta-llama/Llama-2-7b-hf\")"
   ]
  },
  {
   "cell_type": "code",
   "execution_count": 7,
   "metadata": {},
   "outputs": [
    {
     "name": "stdout",
     "output_type": "stream",
     "text": [
      "Hi! I'm a 2019 graduate of the University of Illinois at Chicago. I\n"
     ]
    }
   ],
   "source": [
    "def generate_text_greedily(model, tokenizer, prompt, max_length=50, device='cuda'):\n",
    "    model.eval()\n",
    "    input_ids = tokenizer.encode(prompt, return_tensors='pt').to(device)\n",
    "    \n",
    "    for _ in range(max_length):\n",
    "        with torch.no_grad():\n",
    "            outputs = model(input_ids, get_logits=True)\n",
    "            logits = outputs['logits'][:, -1, :]\n",
    "        \n",
    "        next_token_id = torch.argmax(logits, dim=-1).unsqueeze(-1)\n",
    "        input_ids = torch.cat([input_ids, next_token_id], dim=-1)\n",
    "        \n",
    "    return tokenizer.decode(input_ids[0], skip_special_tokens=True)\n",
    "\n",
    "generated_text = generate_text_greedily(model, tokenizer, \"Hi!\", max_length=20)\n",
    "print(generated_text)\n"
   ]
  },
  {
   "cell_type": "code",
   "execution_count": 8,
   "metadata": {},
   "outputs": [
    {
     "name": "stdout",
     "output_type": "stream",
     "text": [
      "822.083584\n"
     ]
    }
   ],
   "source": [
    "numel = 0\n",
    "for name, param in model.named_buffers():\n",
    "    numel += param.numel()\n",
    "    # print(name, param.numel())\n",
    "    \n",
    "print(numel/1e6)"
   ]
  },
  {
   "cell_type": "code",
   "execution_count": null,
   "metadata": {},
   "outputs": [],
   "source": []
  }
 ],
 "metadata": {
  "kernelspec": {
   "display_name": "transformers",
   "language": "python",
   "name": "python3"
  },
  "language_info": {
   "codemirror_mode": {
    "name": "ipython",
    "version": 3
   },
   "file_extension": ".py",
   "mimetype": "text/x-python",
   "name": "python",
   "nbconvert_exporter": "python",
   "pygments_lexer": "ipython3",
   "version": "3.10.13"
  }
 },
 "nbformat": 4,
 "nbformat_minor": 2
}
